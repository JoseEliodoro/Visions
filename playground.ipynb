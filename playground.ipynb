{
 "cells": [
  {
   "cell_type": "code",
   "execution_count": 806,
   "metadata": {},
   "outputs": [],
   "source": [
    "import pandas as pd\n",
    "import numpy as np\n",
    "from datetime import datetime"
   ]
  },
  {
   "cell_type": "code",
   "execution_count": 807,
   "metadata": {},
   "outputs": [],
   "source": [
    "df = pd.read_excel('data/Bolsonaro + Lula - Validado.xlsx')"
   ]
  },
  {
   "cell_type": "code",
   "execution_count": 808,
   "metadata": {},
   "outputs": [],
   "source": [
    "def day_for_flaot(x):\n",
    "  if(isinstance(x, datetime)):\n",
    "    x = float(f\"{x.day}.{x.month}\")\n",
    "  return x"
   ]
  },
  {
   "cell_type": "code",
   "execution_count": 809,
   "metadata": {},
   "outputs": [],
   "source": [
    "df['Duracao'] = df['Duracao'].apply(day_for_flaot)\n",
    "df['Duracao'] = pd.to_numeric(df['Duracao'], errors='coerce', downcast='signed')"
   ]
  },
  {
   "cell_type": "code",
   "execution_count": 810,
   "metadata": {},
   "outputs": [
    {
     "data": {
      "text/plain": [
       "0      57.93\n",
       "1      17.30\n",
       "2      17.13\n",
       "3      52.54\n",
       "4      34.48\n",
       "       ...  \n",
       "564    51.34\n",
       "565    15.20\n",
       "566    85.10\n",
       "567    12.93\n",
       "568    49.19\n",
       "Name: Duracao, Length: 569, dtype: float64"
      ]
     },
     "execution_count": 810,
     "metadata": {},
     "output_type": "execute_result"
    }
   ],
   "source": [
    "df['Duracao']"
   ]
  },
  {
   "attachments": {},
   "cell_type": "markdown",
   "metadata": {},
   "source": [
    "# Ao executar tudo será criado dois arquivos de dataset com os nomes 'file'_dataset.csv 'file'_dataset.xlsx"
   ]
  },
  {
   "cell_type": "code",
   "execution_count": 811,
   "metadata": {},
   "outputs": [],
   "source": [
    "file = 'Amazon'\n",
    "#file = 'Google'"
   ]
  },
  {
   "cell_type": "code",
   "execution_count": 812,
   "metadata": {},
   "outputs": [],
   "source": [
    "if file.title() == 'Google':\n",
    "  data = pd.read_csv('data/GoogleVision.csv')\n",
    "  text = data.loc[data['Subclass']=='text'][['ID', 'Class']]\n",
    "  text.rename({'Class': 'Text_Post'}, inplace=True, axis=1)\n",
    "  data = data.loc[data['Subclass'] != 'text']\n",
    "else:\n",
    "  data = pd.read_csv('data/result_not_duplicates_oficial.csv')\n",
    "  data.rename({'porcentagem': 'Percent', 'Nome': 'Class'}, axis=1, inplace=True)\n",
    "  text = pd.DataFrame({'ID': [], 'Text_Post': []})"
   ]
  },
  {
   "attachments": {},
   "cell_type": "markdown",
   "metadata": {},
   "source": [
    "# Filtro de dados validados"
   ]
  },
  {
   "cell_type": "code",
   "execution_count": 813,
   "metadata": {},
   "outputs": [
    {
     "data": {
      "text/plain": [
       "569"
      ]
     },
     "execution_count": 813,
     "metadata": {},
     "output_type": "execute_result"
    }
   ],
   "source": [
    "data = data.loc[data['ID'].isin(df['ID'])]\n",
    "text = text.loc[text['ID'].isin(df['ID'])]\n",
    "data['ID'].unique().size"
   ]
  },
  {
   "attachments": {},
   "cell_type": "markdown",
   "metadata": {},
   "source": [
    "# Filtro de quartil"
   ]
  },
  {
   "cell_type": "code",
   "execution_count": 814,
   "metadata": {},
   "outputs": [
    {
     "data": {
      "text/plain": [
       "57.73067474365234"
      ]
     },
     "execution_count": 814,
     "metadata": {},
     "output_type": "execute_result"
    }
   ],
   "source": [
    "filter_percent = data['Percent'].quantile(.25)\n",
    "filter_percent"
   ]
  },
  {
   "cell_type": "code",
   "execution_count": 815,
   "metadata": {},
   "outputs": [
    {
     "name": "stdout",
     "output_type": "stream",
     "text": [
      "Quantidade Total: 11913\n",
      "      \n",
      "Quantidade esperado: 8934.75\n",
      "Quantidade retornado: 8935\n"
     ]
    }
   ],
   "source": [
    "print(f'''Quantidade Total: {data[\"ID\"].count()}\n",
    "      \\nQuantidade esperado: {data[\"ID\"].count()*.75}''')\n",
    "data = data[data['Percent'] >= filter_percent]\n",
    "print(f\"Quantidade retornado: {data['ID'].count()}\")"
   ]
  },
  {
   "cell_type": "code",
   "execution_count": 816,
   "metadata": {},
   "outputs": [
    {
     "data": {
      "text/html": [
       "<div>\n",
       "<style scoped>\n",
       "    .dataframe tbody tr th:only-of-type {\n",
       "        vertical-align: middle;\n",
       "    }\n",
       "\n",
       "    .dataframe tbody tr th {\n",
       "        vertical-align: top;\n",
       "    }\n",
       "\n",
       "    .dataframe thead th {\n",
       "        text-align: right;\n",
       "    }\n",
       "</style>\n",
       "<table border=\"1\" class=\"dataframe\">\n",
       "  <thead>\n",
       "    <tr style=\"text-align: right;\">\n",
       "      <th></th>\n",
       "      <th>ID</th>\n",
       "      <th>Percent</th>\n",
       "      <th>Class</th>\n",
       "    </tr>\n",
       "  </thead>\n",
       "  <tbody>\n",
       "    <tr>\n",
       "      <th>0</th>\n",
       "      <td>7150280209315417349</td>\n",
       "      <td>99.994194</td>\n",
       "      <td>Head</td>\n",
       "    </tr>\n",
       "    <tr>\n",
       "      <th>1</th>\n",
       "      <td>7150280209315417349</td>\n",
       "      <td>99.994194</td>\n",
       "      <td>Person</td>\n",
       "    </tr>\n",
       "    <tr>\n",
       "      <th>2</th>\n",
       "      <td>7150280209315417349</td>\n",
       "      <td>99.990639</td>\n",
       "      <td>Face</td>\n",
       "    </tr>\n",
       "    <tr>\n",
       "      <th>3</th>\n",
       "      <td>7150280209315417349</td>\n",
       "      <td>99.018929</td>\n",
       "      <td>Adult</td>\n",
       "    </tr>\n",
       "    <tr>\n",
       "      <th>4</th>\n",
       "      <td>7150280209315417349</td>\n",
       "      <td>99.018929</td>\n",
       "      <td>Male</td>\n",
       "    </tr>\n",
       "    <tr>\n",
       "      <th>5</th>\n",
       "      <td>7150280209315417349</td>\n",
       "      <td>99.018929</td>\n",
       "      <td>Man</td>\n",
       "    </tr>\n",
       "    <tr>\n",
       "      <th>6</th>\n",
       "      <td>7150280209315417349</td>\n",
       "      <td>92.266602</td>\n",
       "      <td>Photography</td>\n",
       "    </tr>\n",
       "    <tr>\n",
       "      <th>7</th>\n",
       "      <td>7150280209315417349</td>\n",
       "      <td>92.266602</td>\n",
       "      <td>Portrait</td>\n",
       "    </tr>\n",
       "  </tbody>\n",
       "</table>\n",
       "</div>"
      ],
      "text/plain": [
       "                    ID    Percent        Class\n",
       "0  7150280209315417349  99.994194         Head\n",
       "1  7150280209315417349  99.994194       Person\n",
       "2  7150280209315417349  99.990639         Face\n",
       "3  7150280209315417349  99.018929        Adult\n",
       "4  7150280209315417349  99.018929         Male\n",
       "5  7150280209315417349  99.018929          Man\n",
       "6  7150280209315417349  92.266602  Photography\n",
       "7  7150280209315417349  92.266602     Portrait"
      ]
     },
     "execution_count": 816,
     "metadata": {},
     "output_type": "execute_result"
    }
   ],
   "source": [
    "data[data['ID'] == 7150280209315417349]"
   ]
  },
  {
   "attachments": {},
   "cell_type": "markdown",
   "metadata": {},
   "source": [
    "# DataFrame com ID, Class e o texto do Post"
   ]
  },
  {
   "cell_type": "code",
   "execution_count": 817,
   "metadata": {},
   "outputs": [
    {
     "data": {
      "text/html": [
       "<div>\n",
       "<style scoped>\n",
       "    .dataframe tbody tr th:only-of-type {\n",
       "        vertical-align: middle;\n",
       "    }\n",
       "\n",
       "    .dataframe tbody tr th {\n",
       "        vertical-align: top;\n",
       "    }\n",
       "\n",
       "    .dataframe thead th {\n",
       "        text-align: right;\n",
       "    }\n",
       "</style>\n",
       "<table border=\"1\" class=\"dataframe\">\n",
       "  <thead>\n",
       "    <tr style=\"text-align: right;\">\n",
       "      <th></th>\n",
       "      <th>ID</th>\n",
       "      <th>Class</th>\n",
       "      <th>Text_Post</th>\n",
       "    </tr>\n",
       "  </thead>\n",
       "  <tbody>\n",
       "    <tr>\n",
       "      <th>0</th>\n",
       "      <td>7114971700365692165</td>\n",
       "      <td>Electrical Device Microphone People Person Cro...</td>\n",
       "      <td>NaN</td>\n",
       "    </tr>\n",
       "    <tr>\n",
       "      <th>1</th>\n",
       "      <td>7115033431473474822</td>\n",
       "      <td>Head Person Face Adult Male Man Photography Po...</td>\n",
       "      <td>NaN</td>\n",
       "    </tr>\n",
       "    <tr>\n",
       "      <th>2</th>\n",
       "      <td>7115050482179050758</td>\n",
       "      <td>Baseball Cap Cap Clothing Hat Head Person Adve...</td>\n",
       "      <td>NaN</td>\n",
       "    </tr>\n",
       "    <tr>\n",
       "      <th>3</th>\n",
       "      <td>7115120078982630661</td>\n",
       "      <td>Advertisement Poster Adult Male Man Person Peo...</td>\n",
       "      <td>NaN</td>\n",
       "    </tr>\n",
       "    <tr>\n",
       "      <th>4</th>\n",
       "      <td>7115161088219565317</td>\n",
       "      <td>People Person Crowd Accessories Formal Wear Ti...</td>\n",
       "      <td>NaN</td>\n",
       "    </tr>\n",
       "    <tr>\n",
       "      <th>...</th>\n",
       "      <td>...</td>\n",
       "      <td>...</td>\n",
       "      <td>...</td>\n",
       "    </tr>\n",
       "    <tr>\n",
       "      <th>564</th>\n",
       "      <td>7160017587160485125</td>\n",
       "      <td>People Person Adult Male Man Moped Motor Scoot...</td>\n",
       "      <td>NaN</td>\n",
       "    </tr>\n",
       "    <tr>\n",
       "      <th>565</th>\n",
       "      <td>7160037888611126534</td>\n",
       "      <td>Adult Male Man Person Face Head Flag Brazil Fl...</td>\n",
       "      <td>NaN</td>\n",
       "    </tr>\n",
       "    <tr>\n",
       "      <th>566</th>\n",
       "      <td>7160041692911930630</td>\n",
       "      <td>Crowd Person People Adult Male Man Electrical ...</td>\n",
       "      <td>NaN</td>\n",
       "    </tr>\n",
       "    <tr>\n",
       "      <th>567</th>\n",
       "      <td>7160077729751207174</td>\n",
       "      <td>Photography People Person Face Head Portrait B...</td>\n",
       "      <td>NaN</td>\n",
       "    </tr>\n",
       "    <tr>\n",
       "      <th>568</th>\n",
       "      <td>7160091637970963718</td>\n",
       "      <td>City Urban Neighborhood Architecture Building ...</td>\n",
       "      <td>NaN</td>\n",
       "    </tr>\n",
       "  </tbody>\n",
       "</table>\n",
       "<p>569 rows × 3 columns</p>\n",
       "</div>"
      ],
      "text/plain": [
       "                      ID                                              Class  \\\n",
       "0    7114971700365692165  Electrical Device Microphone People Person Cro...   \n",
       "1    7115033431473474822  Head Person Face Adult Male Man Photography Po...   \n",
       "2    7115050482179050758  Baseball Cap Cap Clothing Hat Head Person Adve...   \n",
       "3    7115120078982630661  Advertisement Poster Adult Male Man Person Peo...   \n",
       "4    7115161088219565317  People Person Crowd Accessories Formal Wear Ti...   \n",
       "..                   ...                                                ...   \n",
       "564  7160017587160485125  People Person Adult Male Man Moped Motor Scoot...   \n",
       "565  7160037888611126534  Adult Male Man Person Face Head Flag Brazil Fl...   \n",
       "566  7160041692911930630  Crowd Person People Adult Male Man Electrical ...   \n",
       "567  7160077729751207174  Photography People Person Face Head Portrait B...   \n",
       "568  7160091637970963718  City Urban Neighborhood Architecture Building ...   \n",
       "\n",
       "     Text_Post  \n",
       "0          NaN  \n",
       "1          NaN  \n",
       "2          NaN  \n",
       "3          NaN  \n",
       "4          NaN  \n",
       "..         ...  \n",
       "564        NaN  \n",
       "565        NaN  \n",
       "566        NaN  \n",
       "567        NaN  \n",
       "568        NaN  \n",
       "\n",
       "[569 rows x 3 columns]"
      ]
     },
     "execution_count": 817,
     "metadata": {},
     "output_type": "execute_result"
    }
   ],
   "source": [
    "new_data = data.groupby('ID')['Class'].apply(' '.join).reset_index()\n",
    "new_data = new_data.merge(text, how='outer', on='ID')\n",
    "new_data"
   ]
  },
  {
   "cell_type": "code",
   "execution_count": 818,
   "metadata": {},
   "outputs": [
    {
     "data": {
      "text/plain": [
       "Index(['Unnamed: 0', 'DataColeta', 'Perfil', 'DataPost', 'DiaDaSemana',\n",
       "       'Plays', 'Curtidas', 'Comentarios', 'Compart.', 'Texto', 'LinkFoto',\n",
       "       'LinkVideo', 'LinkPost', 'ID', 'Duracao', 'Duração Classificada',\n",
       "       'Retórica Aristotélica', 'Dispositivo Retórico', 'Tipo de conteúdo',\n",
       "       'Abordagem', 'Tonalidade', 'Main character', 'Texto / Hashtag'],\n",
       "      dtype='object')"
      ]
     },
     "execution_count": 818,
     "metadata": {},
     "output_type": "execute_result"
    }
   ],
   "source": [
    "df.columns"
   ]
  },
  {
   "attachments": {},
   "cell_type": "markdown",
   "metadata": {},
   "source": [
    "# Existem algumas colunas que podem vazar informação tome cuidado com elas"
   ]
  },
  {
   "cell_type": "code",
   "execution_count": 819,
   "metadata": {},
   "outputs": [],
   "source": [
    "columns = [\n",
    "  'ID',\n",
    "  'Perfil',\n",
    "  #'DataColeta',\n",
    "  #'DataPost',\n",
    "  #'LinkFoto',\n",
    "  #'LinkVideo',             Links não são pertinentes\n",
    "  #'LinkPost',\n",
    "  'Duracao',\n",
    "  #'Duração Classificada',\n",
    "  #'Retórica Aristotélica',\n",
    "  #'Dispositivo Retórico',\n",
    "  #'Tipo de conteúdo',      Classificações manual\n",
    "  #'Abordagem',\n",
    "  #'Tonalidade',\n",
    "  #'Main character',\n",
    "  #'Texto / Hashtag',\n",
    "  'DiaDaSemana',           #\n",
    "  'Plays',                 #\n",
    "  'Comentarios',           # Colunas que podem causar vazamento das informações\n",
    "  'Compart.',              #\n",
    "  'Texto',                 #\n",
    "  'Curtidas',\n",
    "]"
   ]
  },
  {
   "cell_type": "code",
   "execution_count": 820,
   "metadata": {},
   "outputs": [
    {
     "name": "stdout",
     "output_type": "stream",
     "text": [
      "<class 'pandas.core.frame.DataFrame'>\n",
      "RangeIndex: 569 entries, 0 to 568\n",
      "Data columns (total 9 columns):\n",
      " #   Column       Non-Null Count  Dtype  \n",
      "---  ------       --------------  -----  \n",
      " 0   ID           569 non-null    int64  \n",
      " 1   Perfil       569 non-null    object \n",
      " 2   Duracao      569 non-null    float64\n",
      " 3   DiaDaSemana  569 non-null    object \n",
      " 4   Plays        569 non-null    int64  \n",
      " 5   Comentarios  569 non-null    int64  \n",
      " 6   Compart.     569 non-null    int64  \n",
      " 7   Texto        569 non-null    object \n",
      " 8   Curtidas     569 non-null    int64  \n",
      "dtypes: float64(1), int64(5), object(3)\n",
      "memory usage: 40.1+ KB\n"
     ]
    }
   ],
   "source": [
    "df = df[columns]\n",
    "df.info()"
   ]
  },
  {
   "attachments": {},
   "cell_type": "markdown",
   "metadata": {},
   "source": [
    "## OBS na coluna perfil os valores repesentam\n",
    "- 0 == bolsonaromessiasjair\n",
    "- 1 == lulaoficial "
   ]
  },
  {
   "cell_type": "code",
   "execution_count": 821,
   "metadata": {},
   "outputs": [],
   "source": [
    "df = pd.get_dummies(df, columns=['Perfil'], prefix='', prefix_sep='', drop_first=True, dtype='int')\n",
    "df.rename({'lulaoficial': 'Perfil'}, inplace=True, axis=1)"
   ]
  },
  {
   "attachments": {},
   "cell_type": "markdown",
   "metadata": {},
   "source": [
    "# Classifique de acordo com o quartil de cada variável de engajamento\n",
    "# Segue a ordem conforme a importância\n",
    "* ### 1 - Viral\n",
    "* ### 2 - Bombou\n",
    "* ### 3 - Mediano\n",
    "* ###  4 - Flopou"
   ]
  },
  {
   "cell_type": "code",
   "execution_count": 822,
   "metadata": {},
   "outputs": [],
   "source": [
    "def create_class_quartis(label: str):\n",
    "  values = [\n",
    "    df[label].quantile(.25),\n",
    "    df[label].quantile(.5),\n",
    "    df[label].quantile(.75),\n",
    "    ]\n",
    "  def create_class(x):\n",
    "    if x < values[0]:\n",
    "      return f\"Flopou\"\n",
    "    if values[0] <= x < values[1]:\n",
    "      return f\"Mediano\"\n",
    "    if values[1] <= x < values[2]:\n",
    "      return f\"Bombou\"\n",
    "    if values[2] <= x:\n",
    "      return f\"Viral\"\n",
    "  \n",
    "  print(f'Classes para {label}')\n",
    "  print(f\"Classe 1: 0 <= x < {values[0]}\")\n",
    "  print(f\"Classe 2: {values[0]} <= x < {values[1]}\")\n",
    "  print(f\"Classe 3: {values[1]} <= x < {values[2]}\")\n",
    "  print(f\"Classe 4: {values[2]} <= x < ∞\")\n",
    "  return df[label].apply(create_class)\n",
    "  "
   ]
  },
  {
   "cell_type": "code",
   "execution_count": 823,
   "metadata": {},
   "outputs": [
    {
     "name": "stdout",
     "output_type": "stream",
     "text": [
      "Classes para Plays\n",
      "Classe 1: 0 <= x < 125200.0\n",
      "Classe 2: 125200.0 <= x < 259900.0\n",
      "Classe 3: 259900.0 <= x < 671700.0\n",
      "Classe 4: 671700.0 <= x < ∞\n",
      "Classes para Comentarios\n",
      "Classe 1: 0 <= x < 387.0\n",
      "Classe 2: 387.0 <= x < 869.0\n",
      "Classe 3: 869.0 <= x < 2547.0\n",
      "Classe 4: 2547.0 <= x < ∞\n",
      "Classes para Compart.\n",
      "Classe 1: 0 <= x < 408.0\n",
      "Classe 2: 408.0 <= x < 1166.0\n",
      "Classe 3: 1166.0 <= x < 4048.0\n",
      "Classe 4: 4048.0 <= x < ∞\n",
      "Classes para Curtidas\n",
      "Classe 1: 0 <= x < 10500.0\n",
      "Classe 2: 10500.0 <= x < 24500.0\n",
      "Classe 3: 24500.0 <= x < 72200.0\n",
      "Classe 4: 72200.0 <= x < ∞\n"
     ]
    }
   ],
   "source": [
    "classes = ['Plays', 'Comentarios', 'Compart.', 'Curtidas',]\n",
    "for label in classes:\n",
    "  df['Classifier_'+label] = create_class_quartis(label)"
   ]
  },
  {
   "cell_type": "code",
   "execution_count": 824,
   "metadata": {},
   "outputs": [],
   "source": [
    "new_data = new_data.merge(df, on='ID', how='outer')"
   ]
  },
  {
   "cell_type": "code",
   "execution_count": 825,
   "metadata": {},
   "outputs": [],
   "source": [
    "new_data.to_csv(f'data/{file}_dataset.csv')\n",
    "new_data.to_excel(f'data/{file}_dataset.xlsx')"
   ]
  }
 ],
 "metadata": {
  "kernelspec": {
   "display_name": "Visions",
   "language": "python",
   "name": "python3"
  },
  "language_info": {
   "codemirror_mode": {
    "name": "ipython",
    "version": 3
   },
   "file_extension": ".py",
   "mimetype": "text/x-python",
   "name": "python",
   "nbconvert_exporter": "python",
   "pygments_lexer": "ipython3",
   "version": "3.11.2"
  }
 },
 "nbformat": 4,
 "nbformat_minor": 2
}
