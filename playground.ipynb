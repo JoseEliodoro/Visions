{
 "cells": [
  {
   "cell_type": "code",
   "execution_count": 1,
   "metadata": {},
   "outputs": [],
   "source": [
    "import pandas as pd\n",
    "import numpy as np\n",
    "from datetime import datetime"
   ]
  },
  {
   "cell_type": "code",
   "execution_count": 2,
   "metadata": {},
   "outputs": [],
   "source": [
    "df = pd.read_excel('data/Bolsonaro + Lula - Validado.xlsx')"
   ]
  },
  {
   "cell_type": "code",
   "execution_count": 3,
   "metadata": {},
   "outputs": [],
   "source": [
    "def day_for_flaot(x):\n",
    "  if(isinstance(x, datetime)):\n",
    "    x = float(f\"{x.day}.{x.month}\")\n",
    "  return x"
   ]
  },
  {
   "cell_type": "code",
   "execution_count": 4,
   "metadata": {},
   "outputs": [],
   "source": [
    "df['Duracao'] = df['Duracao'].apply(day_for_flaot)\n",
    "df['Duracao'] = pd.to_numeric(df['Duracao'], errors='coerce', downcast='signed')"
   ]
  },
  {
   "cell_type": "code",
   "execution_count": 5,
   "metadata": {},
   "outputs": [
    {
     "data": {
      "text/plain": [
       "0      57.93\n",
       "1      17.30\n",
       "2      17.13\n",
       "3      52.54\n",
       "4      34.48\n",
       "       ...  \n",
       "564    51.34\n",
       "565    15.20\n",
       "566    85.10\n",
       "567    12.93\n",
       "568    49.19\n",
       "Name: Duracao, Length: 569, dtype: float64"
      ]
     },
     "execution_count": 5,
     "metadata": {},
     "output_type": "execute_result"
    }
   ],
   "source": [
    "df['Duracao']"
   ]
  },
  {
   "attachments": {},
   "cell_type": "markdown",
   "metadata": {},
   "source": [
    "# Ao executar tudo será criado dois arquivos de dataset com os nomes 'file'_dataset.csv 'file'_dataset.xlsx"
   ]
  },
  {
   "cell_type": "code",
   "execution_count": 6,
   "metadata": {},
   "outputs": [],
   "source": [
    "#file = 'Amazon'\n",
    "file = 'Google'"
   ]
  },
  {
   "cell_type": "code",
   "execution_count": 7,
   "metadata": {},
   "outputs": [],
   "source": [
    "if file.title() == 'Google':\n",
    "  data = pd.read_csv('data/GoogleVision.csv')\n",
    "  text = data.loc[data['Subclass']=='text'][['ID', 'Class']]\n",
    "  text.rename({'Class': 'Text_Post'}, inplace=True, axis=1)\n",
    "  data = data.loc[data['Subclass'] != 'text']\n",
    "else:\n",
    "  data = pd.read_csv('data/result_not_duplicates_oficial.csv')\n",
    "  data.rename({'porcentagem': 'Percent', 'Nome': 'Class'}, axis=1, inplace=True)\n",
    "  text = pd.DataFrame({'ID': [], 'Text_Post': []})"
   ]
  },
  {
   "attachments": {},
   "cell_type": "markdown",
   "metadata": {},
   "source": [
    "# Filtro de dados validados"
   ]
  },
  {
   "cell_type": "code",
   "execution_count": 8,
   "metadata": {},
   "outputs": [
    {
     "data": {
      "text/plain": [
       "569"
      ]
     },
     "execution_count": 8,
     "metadata": {},
     "output_type": "execute_result"
    }
   ],
   "source": [
    "data = data.loc[data['ID'].isin(df['ID'])]\n",
    "text = text.loc[text['ID'].isin(df['ID'])]\n",
    "data['ID'].unique().size"
   ]
  },
  {
   "attachments": {},
   "cell_type": "markdown",
   "metadata": {},
   "source": [
    "# Filtro de quartil"
   ]
  },
  {
   "cell_type": "code",
   "execution_count": 9,
   "metadata": {},
   "outputs": [
    {
     "data": {
      "text/plain": [
       "0.74"
      ]
     },
     "execution_count": 9,
     "metadata": {},
     "output_type": "execute_result"
    }
   ],
   "source": [
    "filter_percent = data['Percent'].quantile(.25)\n",
    "filter_percent"
   ]
  },
  {
   "cell_type": "code",
   "execution_count": 10,
   "metadata": {},
   "outputs": [
    {
     "name": "stdout",
     "output_type": "stream",
     "text": [
      "Quantidade Total: 7221\n",
      "      \n",
      "Quantidade esperado: 5415.75\n",
      "Quantidade retornado: 5591\n"
     ]
    }
   ],
   "source": [
    "print(f'''Quantidade Total: {data[\"ID\"].count()}\n",
    "      \\nQuantidade esperado: {data[\"ID\"].count()*.75}''')\n",
    "data = data[data['Percent'] >= filter_percent]\n",
    "print(f\"Quantidade retornado: {data['ID'].count()}\")"
   ]
  },
  {
   "cell_type": "code",
   "execution_count": 27,
   "metadata": {},
   "outputs": [],
   "source": [
    "data.sort_values('Percent', ascending=False, inplace=True)"
   ]
  },
  {
   "cell_type": "code",
   "execution_count": 28,
   "metadata": {},
   "outputs": [
    {
     "data": {
      "text/html": [
       "<div>\n",
       "<style scoped>\n",
       "    .dataframe tbody tr th:only-of-type {\n",
       "        vertical-align: middle;\n",
       "    }\n",
       "\n",
       "    .dataframe tbody tr th {\n",
       "        vertical-align: top;\n",
       "    }\n",
       "\n",
       "    .dataframe thead th {\n",
       "        text-align: right;\n",
       "    }\n",
       "</style>\n",
       "<table border=\"1\" class=\"dataframe\">\n",
       "  <thead>\n",
       "    <tr style=\"text-align: right;\">\n",
       "      <th></th>\n",
       "      <th>ID</th>\n",
       "      <th>Class</th>\n",
       "      <th>Percent</th>\n",
       "      <th>Subclass</th>\n",
       "    </tr>\n",
       "  </thead>\n",
       "  <tbody>\n",
       "    <tr>\n",
       "      <th>9977</th>\n",
       "      <td>7150280209315417349</td>\n",
       "      <td>Nose</td>\n",
       "      <td>0.98</td>\n",
       "      <td>item</td>\n",
       "    </tr>\n",
       "    <tr>\n",
       "      <th>9978</th>\n",
       "      <td>7150280209315417349</td>\n",
       "      <td>Forehead</td>\n",
       "      <td>0.98</td>\n",
       "      <td>item</td>\n",
       "    </tr>\n",
       "    <tr>\n",
       "      <th>9973</th>\n",
       "      <td>7150280209315417349</td>\n",
       "      <td>Cheek</td>\n",
       "      <td>0.98</td>\n",
       "      <td>item</td>\n",
       "    </tr>\n",
       "    <tr>\n",
       "      <th>9979</th>\n",
       "      <td>7150280209315417349</td>\n",
       "      <td>Chin</td>\n",
       "      <td>0.97</td>\n",
       "      <td>item</td>\n",
       "    </tr>\n",
       "    <tr>\n",
       "      <th>9982</th>\n",
       "      <td>7150280209315417349</td>\n",
       "      <td>Jaw</td>\n",
       "      <td>0.88</td>\n",
       "      <td>item</td>\n",
       "    </tr>\n",
       "    <tr>\n",
       "      <th>9983</th>\n",
       "      <td>7150280209315417349</td>\n",
       "      <td>Microphone</td>\n",
       "      <td>0.86</td>\n",
       "      <td>item</td>\n",
       "    </tr>\n",
       "    <tr>\n",
       "      <th>9976</th>\n",
       "      <td>7150280209315417349</td>\n",
       "      <td>Person</td>\n",
       "      <td>0.84</td>\n",
       "      <td>object</td>\n",
       "    </tr>\n",
       "    <tr>\n",
       "      <th>9981</th>\n",
       "      <td>7150280209315417349</td>\n",
       "      <td>Hat</td>\n",
       "      <td>0.83</td>\n",
       "      <td>item</td>\n",
       "    </tr>\n",
       "    <tr>\n",
       "      <th>9984</th>\n",
       "      <td>7150280209315417349</td>\n",
       "      <td>Public address system</td>\n",
       "      <td>0.80</td>\n",
       "      <td>item</td>\n",
       "    </tr>\n",
       "    <tr>\n",
       "      <th>9972</th>\n",
       "      <td>7150280209315417349</td>\n",
       "      <td>Clothing</td>\n",
       "      <td>0.78</td>\n",
       "      <td>object</td>\n",
       "    </tr>\n",
       "    <tr>\n",
       "      <th>9980</th>\n",
       "      <td>7150280209315417349</td>\n",
       "      <td>T-shirt</td>\n",
       "      <td>0.76</td>\n",
       "      <td>item</td>\n",
       "    </tr>\n",
       "  </tbody>\n",
       "</table>\n",
       "</div>"
      ],
      "text/plain": [
       "                       ID                  Class  Percent Subclass\n",
       "9977  7150280209315417349                   Nose     0.98     item\n",
       "9978  7150280209315417349               Forehead     0.98     item\n",
       "9973  7150280209315417349                  Cheek     0.98     item\n",
       "9979  7150280209315417349                   Chin     0.97     item\n",
       "9982  7150280209315417349                    Jaw     0.88     item\n",
       "9983  7150280209315417349             Microphone     0.86     item\n",
       "9976  7150280209315417349                 Person     0.84   object\n",
       "9981  7150280209315417349                    Hat     0.83     item\n",
       "9984  7150280209315417349  Public address system     0.80     item\n",
       "9972  7150280209315417349               Clothing     0.78   object\n",
       "9980  7150280209315417349                T-shirt     0.76     item"
      ]
     },
     "execution_count": 28,
     "metadata": {},
     "output_type": "execute_result"
    }
   ],
   "source": [
    "data[data['ID'] == 7150280209315417349]"
   ]
  },
  {
   "attachments": {},
   "cell_type": "markdown",
   "metadata": {},
   "source": [
    "# DataFrame com ID, Class e o texto do Post"
   ]
  },
  {
   "cell_type": "code",
   "execution_count": 29,
   "metadata": {},
   "outputs": [
    {
     "data": {
      "text/html": [
       "<div>\n",
       "<style scoped>\n",
       "    .dataframe tbody tr th:only-of-type {\n",
       "        vertical-align: middle;\n",
       "    }\n",
       "\n",
       "    .dataframe tbody tr th {\n",
       "        vertical-align: top;\n",
       "    }\n",
       "\n",
       "    .dataframe thead th {\n",
       "        text-align: right;\n",
       "    }\n",
       "</style>\n",
       "<table border=\"1\" class=\"dataframe\">\n",
       "  <thead>\n",
       "    <tr style=\"text-align: right;\">\n",
       "      <th></th>\n",
       "      <th>ID</th>\n",
       "      <th>Class</th>\n",
       "      <th>Text_Post</th>\n",
       "    </tr>\n",
       "  </thead>\n",
       "  <tbody>\n",
       "    <tr>\n",
       "      <th>0</th>\n",
       "      <td>7114971700365692165</td>\n",
       "      <td>Face Microphone Forehead Hair Head Public addr...</td>\n",
       "      <td>que alguém chegasse_quase sem comitiva_PRESIDE...</td>\n",
       "    </tr>\n",
       "    <tr>\n",
       "      <th>1</th>\n",
       "      <td>7115033431473474822</td>\n",
       "      <td>Nose Forehead Chin Mouth Beard Jaw Dress shirt...</td>\n",
       "      <td>O futuro do país!</td>\n",
       "    </tr>\n",
       "    <tr>\n",
       "      <th>2</th>\n",
       "      <td>7115050482179050758</td>\n",
       "      <td>Joy Forehead Smile Facial expression Hat Cap H...</td>\n",
       "      <td>MAIS DE_4,2 MILHÕES_DE EMPREGOS GERADOS_ENTRE ...</td>\n",
       "    </tr>\n",
       "    <tr>\n",
       "      <th>3</th>\n",
       "      <td>7115120078982630661</td>\n",
       "      <td>Exposed World Organism Font T-shirt Adaptation...</td>\n",
       "      <td>CAMPO GRANDE/MS (30/06/22)_&gt; Entrega do Reside...</td>\n",
       "    </tr>\n",
       "    <tr>\n",
       "      <th>4</th>\n",
       "      <td>7115161088219565317</td>\n",
       "      <td>Chin Microphone Tie Person Dress shirt Coat Sl...</td>\n",
       "      <td>O MEU ESTÔMAGO_TÁ SEMPRE RONCANDO,_PRESIDE_JAI...</td>\n",
       "    </tr>\n",
       "    <tr>\n",
       "      <th>...</th>\n",
       "      <td>...</td>\n",
       "      <td>...</td>\n",
       "      <td>...</td>\n",
       "    </tr>\n",
       "    <tr>\n",
       "      <th>564</th>\n",
       "      <td>7160017587160485125</td>\n",
       "      <td>Blurred Hat Photograph Motor vehicle Motorcycl...</td>\n",
       "      <td>29/10_BELO HORIZONTE-MG</td>\n",
       "    </tr>\n",
       "    <tr>\n",
       "      <th>565</th>\n",
       "      <td>7160037888611126534</td>\n",
       "      <td>Shirt World Sleeve Person Yellow Plant Top T-s...</td>\n",
       "      <td>755_PROPAGANDA ELEITORAL-COLIGAÇÃO BRASIL DA E...</td>\n",
       "    </tr>\n",
       "    <tr>\n",
       "      <th>566</th>\n",
       "      <td>7160041692911930630</td>\n",
       "      <td>Hat Microphone Person World Gesture Font Spoke...</td>\n",
       "      <td>QUER_dad_MADOR_LULA 13_PRESIDENTE_ALCKMIN VICE...</td>\n",
       "    </tr>\n",
       "    <tr>\n",
       "      <th>567</th>\n",
       "      <td>7160077729751207174</td>\n",
       "      <td>Joy Forehead Smile Beard Tie Facial hair Colla...</td>\n",
       "      <td>LULA_MEU PRESIDENTE</td>\n",
       "    </tr>\n",
       "    <tr>\n",
       "      <th>568</th>\n",
       "      <td>7160091637970963718</td>\n",
       "      <td>World Green Nature Building Urban design Biome...</td>\n",
       "      <td>LULA 13_PRESIDENTE_ALCKMIN VICE_SÃO PAULO!_CAM...</td>\n",
       "    </tr>\n",
       "  </tbody>\n",
       "</table>\n",
       "<p>569 rows × 3 columns</p>\n",
       "</div>"
      ],
      "text/plain": [
       "                      ID                                              Class  \\\n",
       "0    7114971700365692165  Face Microphone Forehead Hair Head Public addr...   \n",
       "1    7115033431473474822  Nose Forehead Chin Mouth Beard Jaw Dress shirt...   \n",
       "2    7115050482179050758  Joy Forehead Smile Facial expression Hat Cap H...   \n",
       "3    7115120078982630661  Exposed World Organism Font T-shirt Adaptation...   \n",
       "4    7115161088219565317  Chin Microphone Tie Person Dress shirt Coat Sl...   \n",
       "..                   ...                                                ...   \n",
       "564  7160017587160485125  Blurred Hat Photograph Motor vehicle Motorcycl...   \n",
       "565  7160037888611126534  Shirt World Sleeve Person Yellow Plant Top T-s...   \n",
       "566  7160041692911930630  Hat Microphone Person World Gesture Font Spoke...   \n",
       "567  7160077729751207174  Joy Forehead Smile Beard Tie Facial hair Colla...   \n",
       "568  7160091637970963718  World Green Nature Building Urban design Biome...   \n",
       "\n",
       "                                             Text_Post  \n",
       "0    que alguém chegasse_quase sem comitiva_PRESIDE...  \n",
       "1                                    O futuro do país!  \n",
       "2    MAIS DE_4,2 MILHÕES_DE EMPREGOS GERADOS_ENTRE ...  \n",
       "3    CAMPO GRANDE/MS (30/06/22)_> Entrega do Reside...  \n",
       "4    O MEU ESTÔMAGO_TÁ SEMPRE RONCANDO,_PRESIDE_JAI...  \n",
       "..                                                 ...  \n",
       "564                            29/10_BELO HORIZONTE-MG  \n",
       "565  755_PROPAGANDA ELEITORAL-COLIGAÇÃO BRASIL DA E...  \n",
       "566  QUER_dad_MADOR_LULA 13_PRESIDENTE_ALCKMIN VICE...  \n",
       "567                                LULA_MEU PRESIDENTE  \n",
       "568  LULA 13_PRESIDENTE_ALCKMIN VICE_SÃO PAULO!_CAM...  \n",
       "\n",
       "[569 rows x 3 columns]"
      ]
     },
     "execution_count": 29,
     "metadata": {},
     "output_type": "execute_result"
    }
   ],
   "source": [
    "new_data = data.groupby('ID')['Class'].apply(' '.join).reset_index()\n",
    "new_data = new_data.merge(text, how='outer', on='ID')\n",
    "new_data"
   ]
  },
  {
   "cell_type": "code",
   "execution_count": 22,
   "metadata": {},
   "outputs": [
    {
     "data": {
      "text/html": [
       "<div>\n",
       "<style scoped>\n",
       "    .dataframe tbody tr th:only-of-type {\n",
       "        vertical-align: middle;\n",
       "    }\n",
       "\n",
       "    .dataframe tbody tr th {\n",
       "        vertical-align: top;\n",
       "    }\n",
       "\n",
       "    .dataframe thead th {\n",
       "        text-align: right;\n",
       "    }\n",
       "</style>\n",
       "<table border=\"1\" class=\"dataframe\">\n",
       "  <thead>\n",
       "    <tr style=\"text-align: right;\">\n",
       "      <th></th>\n",
       "      <th>ID</th>\n",
       "      <th>Class</th>\n",
       "      <th>Text_Post</th>\n",
       "      <th>Duracao</th>\n",
       "      <th>Plays</th>\n",
       "      <th>Comentarios</th>\n",
       "      <th>Compart.</th>\n",
       "      <th>Texto</th>\n",
       "      <th>Curtidas</th>\n",
       "      <th>Perfil</th>\n",
       "      <th>...</th>\n",
       "      <th>Classifier_Comentarios</th>\n",
       "      <th>Classifier_Compart.</th>\n",
       "      <th>Classifier_Curtidas</th>\n",
       "      <th>domingo</th>\n",
       "      <th>quarta-feira</th>\n",
       "      <th>quinta-feira</th>\n",
       "      <th>segunda-feira</th>\n",
       "      <th>sexta-feira</th>\n",
       "      <th>sábado</th>\n",
       "      <th>terça-feira</th>\n",
       "    </tr>\n",
       "  </thead>\n",
       "  <tbody>\n",
       "    <tr>\n",
       "      <th>429</th>\n",
       "      <td>7150280209315417349</td>\n",
       "      <td>Clothing Cheek Person Nose Forehead Chin T-shi...</td>\n",
       "      <td>NÓS VENCEMOS A MENTIRA_NO DIA DE HOJE,</td>\n",
       "      <td>56.03</td>\n",
       "      <td>947100</td>\n",
       "      <td>8712</td>\n",
       "      <td>2774</td>\n",
       "      <td>- O mundo atravessa por problemas há mais de 3...</td>\n",
       "      <td>103000</td>\n",
       "      <td>0</td>\n",
       "      <td>...</td>\n",
       "      <td>Viral</td>\n",
       "      <td>Bombou</td>\n",
       "      <td>Viral</td>\n",
       "      <td>0</td>\n",
       "      <td>0</td>\n",
       "      <td>0</td>\n",
       "      <td>1</td>\n",
       "      <td>0</td>\n",
       "      <td>0</td>\n",
       "      <td>0</td>\n",
       "    </tr>\n",
       "  </tbody>\n",
       "</table>\n",
       "<p>1 rows × 21 columns</p>\n",
       "</div>"
      ],
      "text/plain": [
       "                      ID                                              Class  \\\n",
       "429  7150280209315417349  Clothing Cheek Person Nose Forehead Chin T-shi...   \n",
       "\n",
       "                                  Text_Post  Duracao   Plays  Comentarios  \\\n",
       "429  NÓS VENCEMOS A MENTIRA_NO DIA DE HOJE,    56.03  947100         8712   \n",
       "\n",
       "     Compart.                                              Texto  Curtidas  \\\n",
       "429      2774  - O mundo atravessa por problemas há mais de 3...    103000   \n",
       "\n",
       "     Perfil  ... Classifier_Comentarios Classifier_Compart.  \\\n",
       "429       0  ...                  Viral              Bombou   \n",
       "\n",
       "    Classifier_Curtidas domingo  quarta-feira  quinta-feira  segunda-feira  \\\n",
       "429               Viral       0             0             0              1   \n",
       "\n",
       "     sexta-feira  sábado  terça-feira  \n",
       "429            0       0            0  \n",
       "\n",
       "[1 rows x 21 columns]"
      ]
     },
     "execution_count": 22,
     "metadata": {},
     "output_type": "execute_result"
    }
   ],
   "source": [
    "new_data[new_data['ID'] == 7150280209315417349]"
   ]
  },
  {
   "cell_type": "code",
   "execution_count": 13,
   "metadata": {},
   "outputs": [
    {
     "data": {
      "text/plain": [
       "Index(['Unnamed: 0', 'DataColeta', 'Perfil', 'DataPost', 'DiaDaSemana',\n",
       "       'Plays', 'Curtidas', 'Comentarios', 'Compart.', 'Texto', 'LinkFoto',\n",
       "       'LinkVideo', 'LinkPost', 'ID', 'Duracao', 'Duração Classificada',\n",
       "       'Retórica Aristotélica', 'Dispositivo Retórico', 'Tipo de conteúdo',\n",
       "       'Abordagem', 'Tonalidade', 'Main character', 'Texto / Hashtag'],\n",
       "      dtype='object')"
      ]
     },
     "execution_count": 13,
     "metadata": {},
     "output_type": "execute_result"
    }
   ],
   "source": [
    "df.columns"
   ]
  },
  {
   "attachments": {},
   "cell_type": "markdown",
   "metadata": {},
   "source": [
    "# Existem algumas colunas que podem vazar informação tome cuidado com elas"
   ]
  },
  {
   "cell_type": "code",
   "execution_count": 14,
   "metadata": {},
   "outputs": [],
   "source": [
    "columns = [\n",
    "  'ID',\n",
    "  'Perfil',\n",
    "  #'DataColeta',\n",
    "  #'DataPost',\n",
    "  #'LinkFoto',\n",
    "  #'LinkVideo',             Links não são pertinentes\n",
    "  #'LinkPost',\n",
    "  'Duracao',\n",
    "  #'Duração Classificada',\n",
    "  #'Retórica Aristotélica',\n",
    "  #'Dispositivo Retórico',\n",
    "  #'Tipo de conteúdo',      Classificações manual\n",
    "  #'Abordagem',\n",
    "  #'Tonalidade',\n",
    "  #'Main character',\n",
    "  #'Texto / Hashtag',\n",
    "  'DiaDaSemana',           #\n",
    "  'Plays',                 #\n",
    "  'Comentarios',           # Colunas que podem causar vazamento das informações\n",
    "  'Compart.',              #\n",
    "  'Texto',                 #\n",
    "  'Curtidas',\n",
    "]"
   ]
  },
  {
   "cell_type": "code",
   "execution_count": 15,
   "metadata": {},
   "outputs": [
    {
     "name": "stdout",
     "output_type": "stream",
     "text": [
      "<class 'pandas.core.frame.DataFrame'>\n",
      "RangeIndex: 569 entries, 0 to 568\n",
      "Data columns (total 9 columns):\n",
      " #   Column       Non-Null Count  Dtype  \n",
      "---  ------       --------------  -----  \n",
      " 0   ID           569 non-null    int64  \n",
      " 1   Perfil       569 non-null    object \n",
      " 2   Duracao      569 non-null    float64\n",
      " 3   DiaDaSemana  569 non-null    object \n",
      " 4   Plays        569 non-null    int64  \n",
      " 5   Comentarios  569 non-null    int64  \n",
      " 6   Compart.     569 non-null    int64  \n",
      " 7   Texto        569 non-null    object \n",
      " 8   Curtidas     569 non-null    int64  \n",
      "dtypes: float64(1), int64(5), object(3)\n",
      "memory usage: 40.1+ KB\n"
     ]
    }
   ],
   "source": [
    "df = df[columns]\n",
    "df.info()"
   ]
  },
  {
   "attachments": {},
   "cell_type": "markdown",
   "metadata": {},
   "source": [
    "## OBS na coluna perfil os valores repesentam\n",
    "- 0 == bolsonaromessiasjair\n",
    "- 1 == lulaoficial "
   ]
  },
  {
   "cell_type": "code",
   "execution_count": 16,
   "metadata": {},
   "outputs": [],
   "source": [
    "df = pd.get_dummies(df, columns=['Perfil'], prefix='', prefix_sep='', drop_first=True, dtype='int')\n",
    "df.rename({'lulaoficial': 'Perfil'}, inplace=True, axis=1)"
   ]
  },
  {
   "attachments": {},
   "cell_type": "markdown",
   "metadata": {},
   "source": [
    "# Classifique de acordo com o quartil de cada variável de engajamento\n",
    "# Segue a ordem conforme a importância\n",
    "* ### 1 - Viral\n",
    "* ### 2 - Bombou\n",
    "* ### 3 - Mediano\n",
    "* ###  4 - Flopou"
   ]
  },
  {
   "cell_type": "code",
   "execution_count": 17,
   "metadata": {},
   "outputs": [],
   "source": [
    "def create_class_quartis(label: str):\n",
    "  values = [\n",
    "    df[label].quantile(.25),\n",
    "    df[label].quantile(.5),\n",
    "    df[label].quantile(.75),\n",
    "    ]\n",
    "  def create_class(x):\n",
    "    if x < values[0]:\n",
    "      return f\"Flopou\"\n",
    "    if values[0] <= x < values[1]:\n",
    "      return f\"Mediano\"\n",
    "    if values[1] <= x < values[2]:\n",
    "      return f\"Bombou\"\n",
    "    if values[2] <= x:\n",
    "      return f\"Viral\"\n",
    "  \n",
    "  print(f'Classes para {label}')\n",
    "  print(f\"Classe 1: 0 <= x < {values[0]}\")\n",
    "  print(f\"Classe 2: {values[0]} <= x < {values[1]}\")\n",
    "  print(f\"Classe 3: {values[1]} <= x < {values[2]}\")\n",
    "  print(f\"Classe 4: {values[2]} <= x < ∞\")\n",
    "  return df[label].apply(create_class)\n",
    "  "
   ]
  },
  {
   "cell_type": "code",
   "execution_count": 18,
   "metadata": {},
   "outputs": [
    {
     "name": "stdout",
     "output_type": "stream",
     "text": [
      "Classes para Plays\n",
      "Classe 1: 0 <= x < 125200.0\n",
      "Classe 2: 125200.0 <= x < 259900.0\n",
      "Classe 3: 259900.0 <= x < 671700.0\n",
      "Classe 4: 671700.0 <= x < ∞\n",
      "Classes para Comentarios\n",
      "Classe 1: 0 <= x < 387.0\n",
      "Classe 2: 387.0 <= x < 869.0\n",
      "Classe 3: 869.0 <= x < 2547.0\n",
      "Classe 4: 2547.0 <= x < ∞\n",
      "Classes para Compart.\n",
      "Classe 1: 0 <= x < 408.0\n",
      "Classe 2: 408.0 <= x < 1166.0\n",
      "Classe 3: 1166.0 <= x < 4048.0\n",
      "Classe 4: 4048.0 <= x < ∞\n",
      "Classes para Curtidas\n",
      "Classe 1: 0 <= x < 10500.0\n",
      "Classe 2: 10500.0 <= x < 24500.0\n",
      "Classe 3: 24500.0 <= x < 72200.0\n",
      "Classe 4: 72200.0 <= x < ∞\n"
     ]
    }
   ],
   "source": [
    "classes = ['Plays', 'Comentarios', 'Compart.', 'Curtidas',]\n",
    "for label in classes:\n",
    "  df['Classifier_'+label] = create_class_quartis(label)"
   ]
  },
  {
   "cell_type": "code",
   "execution_count": 19,
   "metadata": {},
   "outputs": [],
   "source": [
    "new_data = new_data.merge(df, on='ID', how='outer')"
   ]
  },
  {
   "cell_type": "code",
   "execution_count": 20,
   "metadata": {},
   "outputs": [],
   "source": [
    "new_data = pd.get_dummies(new_data, columns=['DiaDaSemana'], dtype='int', prefix='', prefix_sep='')"
   ]
  },
  {
   "cell_type": "code",
   "execution_count": 21,
   "metadata": {},
   "outputs": [],
   "source": [
    "#new_data.to_csv(f'data/{file}_dataset.csv')\n",
    "#new_data.to_excel(f'data/{file}_dataset.xlsx')"
   ]
  }
 ],
 "metadata": {
  "kernelspec": {
   "display_name": "Visions",
   "language": "python",
   "name": "python3"
  },
  "language_info": {
   "codemirror_mode": {
    "name": "ipython",
    "version": 3
   },
   "file_extension": ".py",
   "mimetype": "text/x-python",
   "name": "python",
   "nbconvert_exporter": "python",
   "pygments_lexer": "ipython3",
   "version": "3.11.2"
  }
 },
 "nbformat": 4,
 "nbformat_minor": 2
}
